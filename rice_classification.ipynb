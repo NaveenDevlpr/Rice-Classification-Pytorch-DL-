{
 "cells": [
  {
   "cell_type": "code",
   "execution_count": null,
   "id": "d6825b88",
   "metadata": {},
   "outputs": [],
   "source": [
    "import torch\n",
    "import torch.nn as nn\n",
    "from torch.optim import Adam\n",
    "from torch.utils.data import DataLoader, Dataset\n",
    "from torchsummary import summary\n",
    "from sklearn.metrics import accuracy_score\n",
    "from sklearn.model_selection import train_test_split\n",
    "import pandas as pd\n",
    "import numpy as np\n",
    "import matplotlib as plt"
   ]
  },
  {
   "cell_type": "code",
   "execution_count": null,
   "id": "08055440",
   "metadata": {},
   "outputs": [
    {
     "name": "stdout",
     "output_type": "stream",
     "text": [
      "   id  Area  MajorAxisLength  MinorAxisLength  Eccentricity  ConvexArea  \\\n",
      "0   1  4537        92.229316        64.012769      0.719916        4677   \n",
      "1   2  2872        74.691881        51.400454      0.725553        3015   \n",
      "2   3  3048        76.293164        52.043491      0.731211        3132   \n",
      "3   4  3073        77.033628        51.928487      0.738639        3157   \n",
      "4   5  3693        85.124785        56.374021      0.749282        3802   \n",
      "\n",
      "   EquivDiameter    Extent  Perimeter  Roundness  AspectRation  Class  \n",
      "0      76.004525  0.657536    273.085   0.764510      1.440796      1  \n",
      "1      60.471018  0.713009    208.317   0.831658      1.453137      1  \n",
      "2      62.296341  0.759153    210.012   0.868434      1.465950      1  \n",
      "3      62.551300  0.783529    210.657   0.870203      1.483456      1  \n",
      "4      68.571668  0.769375    230.332   0.874743      1.510000      1  \n"
     ]
    }
   ],
   "source": [
    "data_df = pd.read_csv(\"riceClassification.csv\")\n",
    "print(data_df.head())"
   ]
  },
  {
   "cell_type": "code",
   "execution_count": 3,
   "id": "4748d4b0",
   "metadata": {},
   "outputs": [
    {
     "name": "stdout",
     "output_type": "stream",
     "text": [
      "id                 0\n",
      "Area               0\n",
      "MajorAxisLength    0\n",
      "MinorAxisLength    0\n",
      "Eccentricity       0\n",
      "ConvexArea         0\n",
      "EquivDiameter      0\n",
      "Extent             0\n",
      "Perimeter          0\n",
      "Roundness          0\n",
      "AspectRation       0\n",
      "Class              0\n",
      "dtype: int64\n"
     ]
    }
   ],
   "source": [
    "print(data_df.isnull().sum())"
   ]
  },
  {
   "cell_type": "code",
   "execution_count": null,
   "id": "497fe138",
   "metadata": {},
   "outputs": [],
   "source": [
    "data_df = data_df.dropna()"
   ]
  },
  {
   "cell_type": "code",
   "execution_count": null,
   "id": "3c422371",
   "metadata": {},
   "outputs": [],
   "source": [
    "data_df.drop([\"id\"], axis=1, inplace=True)"
   ]
  },
  {
   "cell_type": "code",
   "execution_count": 8,
   "id": "250a2726",
   "metadata": {},
   "outputs": [
    {
     "name": "stdout",
     "output_type": "stream",
     "text": [
      "(18185, 11)\n"
     ]
    }
   ],
   "source": [
    "print(data_df.shape)"
   ]
  },
  {
   "cell_type": "code",
   "execution_count": null,
   "id": "c1c8f1a6",
   "metadata": {},
   "outputs": [
    {
     "name": "stdout",
     "output_type": "stream",
     "text": [
      "[1 0]\n",
      "Class\n",
      "1    9985\n",
      "0    8200\n",
      "Name: count, dtype: int64\n"
     ]
    }
   ],
   "source": [
    "print(data_df[\"Class\"].unique())\n",
    "print(data_df[\"Class\"].value_counts())"
   ]
  },
  {
   "cell_type": "code",
   "execution_count": null,
   "id": "d9316405",
   "metadata": {},
   "outputs": [],
   "source": [
    "# normalization needed(a pre-processing technique):\n",
    "# this is done to make the larger numerical values to be in a commaon range of value.\n",
    "# we take each column and each value is divided by the maximum value in the column."
   ]
  },
  {
   "cell_type": "code",
   "execution_count": null,
   "id": "cffc1672",
   "metadata": {},
   "outputs": [],
   "source": [
    "original_df = data_df.copy()"
   ]
  },
  {
   "cell_type": "code",
   "execution_count": null,
   "id": "6d5bd2bb",
   "metadata": {},
   "outputs": [],
   "source": [
    "for cols in data_df.columns:\n",
    "    data_df[cols] = data_df[cols] / data_df[cols].max()"
   ]
  },
  {
   "cell_type": "code",
   "execution_count": 12,
   "id": "cc56256a",
   "metadata": {},
   "outputs": [
    {
     "name": "stdout",
     "output_type": "stream",
     "text": [
      "       Area  MajorAxisLength  MinorAxisLength  Eccentricity  ConvexArea  \\\n",
      "0  0.444368         0.503404         0.775435      0.744658    0.424873   \n",
      "1  0.281293         0.407681         0.622653      0.750489    0.273892   \n",
      "2  0.298531         0.416421         0.630442      0.756341    0.284520   \n",
      "3  0.300979         0.420463         0.629049      0.764024    0.286791   \n",
      "4  0.361704         0.464626         0.682901      0.775033    0.345385   \n",
      "\n",
      "   EquivDiameter    Extent  Perimeter  Roundness  AspectRation  Class  \n",
      "0       0.666610  0.741661   0.537029   0.844997      0.368316    1.0  \n",
      "1       0.530370  0.804230   0.409661   0.919215      0.371471    1.0  \n",
      "2       0.546380  0.856278   0.412994   0.959862      0.374747    1.0  \n",
      "3       0.548616  0.883772   0.414262   0.961818      0.379222    1.0  \n",
      "4       0.601418  0.867808   0.452954   0.966836      0.386007    1.0  \n"
     ]
    }
   ],
   "source": [
    "print(data_df.head())"
   ]
  },
  {
   "cell_type": "code",
   "execution_count": 13,
   "id": "5e2c48c3",
   "metadata": {},
   "outputs": [],
   "source": [
    "X=np.array(data_df.iloc[:,:-1])\n",
    "Y=np.array(data_df.iloc[:,-1])"
   ]
  },
  {
   "cell_type": "code",
   "execution_count": 14,
   "id": "fe238e8a",
   "metadata": {},
   "outputs": [],
   "source": [
    "X_train,X_test,y_train,y_test=train_test_split(X,Y,test_size=0.3,random_state=0)"
   ]
  },
  {
   "cell_type": "code",
   "execution_count": 15,
   "id": "2ed1c921",
   "metadata": {},
   "outputs": [],
   "source": [
    "X_test,X_val,y_test,y_val=train_test_split(X_test,y_test,test_size=0.5,random_state=0)"
   ]
  }
 ],
 "metadata": {
  "kernelspec": {
   "display_name": "venv",
   "language": "python",
   "name": "python3"
  },
  "language_info": {
   "codemirror_mode": {
    "name": "ipython",
    "version": 3
   },
   "file_extension": ".py",
   "mimetype": "text/x-python",
   "name": "python",
   "nbconvert_exporter": "python",
   "pygments_lexer": "ipython3",
   "version": "3.11.7"
  }
 },
 "nbformat": 4,
 "nbformat_minor": 5
}
